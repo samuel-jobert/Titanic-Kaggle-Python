{
 "cells": [
  {
   "cell_type": "markdown",
   "metadata": {},
   "source": [
    "# Titanic Kaggle First Try\n",
    "---"
   ]
  },
  {
   "cell_type": "markdown",
   "metadata": {},
   "source": [
    "---\n",
    "### Import Data\n",
    "---"
   ]
  },
  {
   "cell_type": "code",
   "execution_count": 1,
   "metadata": {
    "collapsed": false
   },
   "outputs": [],
   "source": [
    "import numpy as np\n",
    "import pandas as pd\n",
    "\n",
    "train = pd.read_csv(\"./input/train.csv\")\n",
    "test = pd.read_csv(\"./input/test.csv\")\n",
    "test[\"Survived\"] = None\n",
    "\n",
    "titanic = pd.concat([train,test])\n",
    "\n"
   ]
  },
  {
   "cell_type": "markdown",
   "metadata": {},
   "source": [
    "---\n",
    "### Data transformation\n",
    "---"
   ]
  },
  {
   "cell_type": "code",
   "execution_count": 2,
   "metadata": {
    "collapsed": false,
    "scrolled": true
   },
   "outputs": [
    {
     "name": "stdout",
     "output_type": "stream",
     "text": [
      "<class 'pandas.core.frame.DataFrame'>\n",
      "Int64Index: 1309 entries, 0 to 417\n",
      "Data columns (total 12 columns):\n",
      "Age            1309 non-null float64\n",
      "Cabin          295 non-null object\n",
      "Embarked       1309 non-null object\n",
      "Fare           1309 non-null float64\n",
      "Name           1309 non-null object\n",
      "Parch          1309 non-null int64\n",
      "PassengerId    1309 non-null int64\n",
      "Pclass         1309 non-null int64\n",
      "Sex            1309 non-null object\n",
      "SibSp          1309 non-null int64\n",
      "Survived       891 non-null object\n",
      "Ticket         1309 non-null object\n",
      "dtypes: float64(2), int64(4), object(6)\n",
      "memory usage: 132.9+ KB\n"
     ]
    }
   ],
   "source": [
    "## Transform variable and fill NAs\n",
    "\n",
    "# Age\n",
    "titanic.Age = titanic.Age.fillna(titanic.Age.median())\n",
    "\n",
    "# Fare\n",
    "titanic.Fare = titanic.Fare.fillna(titanic.Fare.median())\n",
    "\n",
    "# Sex : male=0, female=1\n",
    "titanic.loc[titanic.Sex==\"male\",\"Sex\"] = 0\n",
    "titanic.loc[titanic.Sex==\"female\",\"Sex\"] = 1\n",
    "\n",
    "# Embarked : if null: \"S\"\n",
    "titanic.Embarked = titanic.Embarked.fillna(\"S\")\n",
    "\n",
    "# Embarked : S=1, C=2, Q=3\n",
    "titanic.loc[titanic.Embarked==\"S\",\"Embarked\"] = 1\n",
    "titanic.loc[titanic.Embarked==\"C\",\"Embarked\"] = 2\n",
    "titanic.loc[titanic.Embarked==\"Q\",\"Embarked\"] = 3\n",
    "\n",
    "titanic.info()\n"
   ]
  },
  {
   "cell_type": "code",
   "execution_count": 3,
   "metadata": {
    "collapsed": false
   },
   "outputs": [
    {
     "name": "stdout",
     "output_type": "stream",
     "text": [
      "<class 'pandas.core.frame.DataFrame'>\n",
      "Int64Index: 1309 entries, 0 to 417\n",
      "Data columns (total 12 columns):\n",
      "Age            1309 non-null float64\n",
      "Cabin          295 non-null object\n",
      "Embarked       1309 non-null object\n",
      "Fare           1309 non-null float64\n",
      "Name           1309 non-null object\n",
      "Parch          1309 non-null int64\n",
      "PassengerId    1309 non-null int64\n",
      "Pclass         1309 non-null int64\n",
      "Sex            1309 non-null object\n",
      "SibSp          1309 non-null int64\n",
      "Survived       891 non-null object\n",
      "Ticket         1309 non-null object\n",
      "dtypes: float64(2), int64(4), object(6)\n",
      "memory usage: 132.9+ KB\n"
     ]
    },
    {
     "data": {
      "text/html": [
       "<div>\n",
       "<table border=\"1\" class=\"dataframe\">\n",
       "  <thead>\n",
       "    <tr style=\"text-align: right;\">\n",
       "      <th></th>\n",
       "      <th>Age</th>\n",
       "      <th>Cabin</th>\n",
       "      <th>Embarked</th>\n",
       "      <th>Fare</th>\n",
       "      <th>Name</th>\n",
       "      <th>Parch</th>\n",
       "      <th>PassengerId</th>\n",
       "      <th>Pclass</th>\n",
       "      <th>Sex</th>\n",
       "      <th>SibSp</th>\n",
       "      <th>Survived</th>\n",
       "      <th>Ticket</th>\n",
       "    </tr>\n",
       "  </thead>\n",
       "  <tbody>\n",
       "    <tr>\n",
       "      <th>0</th>\n",
       "      <td>22</td>\n",
       "      <td>NaN</td>\n",
       "      <td>1</td>\n",
       "      <td>7.2500</td>\n",
       "      <td>Braund, Mr. Owen Harris</td>\n",
       "      <td>0</td>\n",
       "      <td>1</td>\n",
       "      <td>3</td>\n",
       "      <td>0</td>\n",
       "      <td>1</td>\n",
       "      <td>0</td>\n",
       "      <td>A/5 21171</td>\n",
       "    </tr>\n",
       "    <tr>\n",
       "      <th>1</th>\n",
       "      <td>38</td>\n",
       "      <td>C85</td>\n",
       "      <td>2</td>\n",
       "      <td>71.2833</td>\n",
       "      <td>Cumings, Mrs. John Bradley (Florence Briggs Th...</td>\n",
       "      <td>0</td>\n",
       "      <td>2</td>\n",
       "      <td>1</td>\n",
       "      <td>1</td>\n",
       "      <td>1</td>\n",
       "      <td>1</td>\n",
       "      <td>PC 17599</td>\n",
       "    </tr>\n",
       "    <tr>\n",
       "      <th>2</th>\n",
       "      <td>26</td>\n",
       "      <td>NaN</td>\n",
       "      <td>1</td>\n",
       "      <td>7.9250</td>\n",
       "      <td>Heikkinen, Miss. Laina</td>\n",
       "      <td>0</td>\n",
       "      <td>3</td>\n",
       "      <td>3</td>\n",
       "      <td>1</td>\n",
       "      <td>0</td>\n",
       "      <td>1</td>\n",
       "      <td>STON/O2. 3101282</td>\n",
       "    </tr>\n",
       "    <tr>\n",
       "      <th>3</th>\n",
       "      <td>35</td>\n",
       "      <td>C123</td>\n",
       "      <td>1</td>\n",
       "      <td>53.1000</td>\n",
       "      <td>Futrelle, Mrs. Jacques Heath (Lily May Peel)</td>\n",
       "      <td>0</td>\n",
       "      <td>4</td>\n",
       "      <td>1</td>\n",
       "      <td>1</td>\n",
       "      <td>1</td>\n",
       "      <td>1</td>\n",
       "      <td>113803</td>\n",
       "    </tr>\n",
       "    <tr>\n",
       "      <th>4</th>\n",
       "      <td>35</td>\n",
       "      <td>NaN</td>\n",
       "      <td>1</td>\n",
       "      <td>8.0500</td>\n",
       "      <td>Allen, Mr. William Henry</td>\n",
       "      <td>0</td>\n",
       "      <td>5</td>\n",
       "      <td>3</td>\n",
       "      <td>0</td>\n",
       "      <td>0</td>\n",
       "      <td>0</td>\n",
       "      <td>373450</td>\n",
       "    </tr>\n",
       "    <tr>\n",
       "      <th>5</th>\n",
       "      <td>28</td>\n",
       "      <td>NaN</td>\n",
       "      <td>3</td>\n",
       "      <td>8.4583</td>\n",
       "      <td>Moran, Mr. James</td>\n",
       "      <td>0</td>\n",
       "      <td>6</td>\n",
       "      <td>3</td>\n",
       "      <td>0</td>\n",
       "      <td>0</td>\n",
       "      <td>0</td>\n",
       "      <td>330877</td>\n",
       "    </tr>\n",
       "    <tr>\n",
       "      <th>6</th>\n",
       "      <td>54</td>\n",
       "      <td>E46</td>\n",
       "      <td>1</td>\n",
       "      <td>51.8625</td>\n",
       "      <td>McCarthy, Mr. Timothy J</td>\n",
       "      <td>0</td>\n",
       "      <td>7</td>\n",
       "      <td>1</td>\n",
       "      <td>0</td>\n",
       "      <td>0</td>\n",
       "      <td>0</td>\n",
       "      <td>17463</td>\n",
       "    </tr>\n",
       "    <tr>\n",
       "      <th>7</th>\n",
       "      <td>2</td>\n",
       "      <td>NaN</td>\n",
       "      <td>1</td>\n",
       "      <td>21.0750</td>\n",
       "      <td>Palsson, Master. Gosta Leonard</td>\n",
       "      <td>1</td>\n",
       "      <td>8</td>\n",
       "      <td>3</td>\n",
       "      <td>0</td>\n",
       "      <td>3</td>\n",
       "      <td>0</td>\n",
       "      <td>349909</td>\n",
       "    </tr>\n",
       "    <tr>\n",
       "      <th>8</th>\n",
       "      <td>27</td>\n",
       "      <td>NaN</td>\n",
       "      <td>1</td>\n",
       "      <td>11.1333</td>\n",
       "      <td>Johnson, Mrs. Oscar W (Elisabeth Vilhelmina Berg)</td>\n",
       "      <td>2</td>\n",
       "      <td>9</td>\n",
       "      <td>3</td>\n",
       "      <td>1</td>\n",
       "      <td>0</td>\n",
       "      <td>1</td>\n",
       "      <td>347742</td>\n",
       "    </tr>\n",
       "    <tr>\n",
       "      <th>9</th>\n",
       "      <td>14</td>\n",
       "      <td>NaN</td>\n",
       "      <td>2</td>\n",
       "      <td>30.0708</td>\n",
       "      <td>Nasser, Mrs. Nicholas (Adele Achem)</td>\n",
       "      <td>0</td>\n",
       "      <td>10</td>\n",
       "      <td>2</td>\n",
       "      <td>1</td>\n",
       "      <td>1</td>\n",
       "      <td>1</td>\n",
       "      <td>237736</td>\n",
       "    </tr>\n",
       "    <tr>\n",
       "      <th>10</th>\n",
       "      <td>4</td>\n",
       "      <td>G6</td>\n",
       "      <td>1</td>\n",
       "      <td>16.7000</td>\n",
       "      <td>Sandstrom, Miss. Marguerite Rut</td>\n",
       "      <td>1</td>\n",
       "      <td>11</td>\n",
       "      <td>3</td>\n",
       "      <td>1</td>\n",
       "      <td>1</td>\n",
       "      <td>1</td>\n",
       "      <td>PP 9549</td>\n",
       "    </tr>\n",
       "    <tr>\n",
       "      <th>11</th>\n",
       "      <td>58</td>\n",
       "      <td>C103</td>\n",
       "      <td>1</td>\n",
       "      <td>26.5500</td>\n",
       "      <td>Bonnell, Miss. Elizabeth</td>\n",
       "      <td>0</td>\n",
       "      <td>12</td>\n",
       "      <td>1</td>\n",
       "      <td>1</td>\n",
       "      <td>0</td>\n",
       "      <td>1</td>\n",
       "      <td>113783</td>\n",
       "    </tr>\n",
       "    <tr>\n",
       "      <th>12</th>\n",
       "      <td>20</td>\n",
       "      <td>NaN</td>\n",
       "      <td>1</td>\n",
       "      <td>8.0500</td>\n",
       "      <td>Saundercock, Mr. William Henry</td>\n",
       "      <td>0</td>\n",
       "      <td>13</td>\n",
       "      <td>3</td>\n",
       "      <td>0</td>\n",
       "      <td>0</td>\n",
       "      <td>0</td>\n",
       "      <td>A/5. 2151</td>\n",
       "    </tr>\n",
       "    <tr>\n",
       "      <th>13</th>\n",
       "      <td>39</td>\n",
       "      <td>NaN</td>\n",
       "      <td>1</td>\n",
       "      <td>31.2750</td>\n",
       "      <td>Andersson, Mr. Anders Johan</td>\n",
       "      <td>5</td>\n",
       "      <td>14</td>\n",
       "      <td>3</td>\n",
       "      <td>0</td>\n",
       "      <td>1</td>\n",
       "      <td>0</td>\n",
       "      <td>347082</td>\n",
       "    </tr>\n",
       "    <tr>\n",
       "      <th>14</th>\n",
       "      <td>14</td>\n",
       "      <td>NaN</td>\n",
       "      <td>1</td>\n",
       "      <td>7.8542</td>\n",
       "      <td>Vestrom, Miss. Hulda Amanda Adolfina</td>\n",
       "      <td>0</td>\n",
       "      <td>15</td>\n",
       "      <td>3</td>\n",
       "      <td>1</td>\n",
       "      <td>0</td>\n",
       "      <td>0</td>\n",
       "      <td>350406</td>\n",
       "    </tr>\n",
       "    <tr>\n",
       "      <th>15</th>\n",
       "      <td>55</td>\n",
       "      <td>NaN</td>\n",
       "      <td>1</td>\n",
       "      <td>16.0000</td>\n",
       "      <td>Hewlett, Mrs. (Mary D Kingcome)</td>\n",
       "      <td>0</td>\n",
       "      <td>16</td>\n",
       "      <td>2</td>\n",
       "      <td>1</td>\n",
       "      <td>0</td>\n",
       "      <td>1</td>\n",
       "      <td>248706</td>\n",
       "    </tr>\n",
       "    <tr>\n",
       "      <th>16</th>\n",
       "      <td>2</td>\n",
       "      <td>NaN</td>\n",
       "      <td>3</td>\n",
       "      <td>29.1250</td>\n",
       "      <td>Rice, Master. Eugene</td>\n",
       "      <td>1</td>\n",
       "      <td>17</td>\n",
       "      <td>3</td>\n",
       "      <td>0</td>\n",
       "      <td>4</td>\n",
       "      <td>0</td>\n",
       "      <td>382652</td>\n",
       "    </tr>\n",
       "    <tr>\n",
       "      <th>17</th>\n",
       "      <td>28</td>\n",
       "      <td>NaN</td>\n",
       "      <td>1</td>\n",
       "      <td>13.0000</td>\n",
       "      <td>Williams, Mr. Charles Eugene</td>\n",
       "      <td>0</td>\n",
       "      <td>18</td>\n",
       "      <td>2</td>\n",
       "      <td>0</td>\n",
       "      <td>0</td>\n",
       "      <td>1</td>\n",
       "      <td>244373</td>\n",
       "    </tr>\n",
       "    <tr>\n",
       "      <th>18</th>\n",
       "      <td>31</td>\n",
       "      <td>NaN</td>\n",
       "      <td>1</td>\n",
       "      <td>18.0000</td>\n",
       "      <td>Vander Planke, Mrs. Julius (Emelia Maria Vande...</td>\n",
       "      <td>0</td>\n",
       "      <td>19</td>\n",
       "      <td>3</td>\n",
       "      <td>1</td>\n",
       "      <td>1</td>\n",
       "      <td>0</td>\n",
       "      <td>345763</td>\n",
       "    </tr>\n",
       "    <tr>\n",
       "      <th>19</th>\n",
       "      <td>28</td>\n",
       "      <td>NaN</td>\n",
       "      <td>2</td>\n",
       "      <td>7.2250</td>\n",
       "      <td>Masselmani, Mrs. Fatima</td>\n",
       "      <td>0</td>\n",
       "      <td>20</td>\n",
       "      <td>3</td>\n",
       "      <td>1</td>\n",
       "      <td>0</td>\n",
       "      <td>1</td>\n",
       "      <td>2649</td>\n",
       "    </tr>\n",
       "  </tbody>\n",
       "</table>\n",
       "</div>"
      ],
      "text/plain": [
       "    Age Cabin Embarked     Fare  \\\n",
       "0    22   NaN        1   7.2500   \n",
       "1    38   C85        2  71.2833   \n",
       "2    26   NaN        1   7.9250   \n",
       "3    35  C123        1  53.1000   \n",
       "4    35   NaN        1   8.0500   \n",
       "5    28   NaN        3   8.4583   \n",
       "6    54   E46        1  51.8625   \n",
       "7     2   NaN        1  21.0750   \n",
       "8    27   NaN        1  11.1333   \n",
       "9    14   NaN        2  30.0708   \n",
       "10    4    G6        1  16.7000   \n",
       "11   58  C103        1  26.5500   \n",
       "12   20   NaN        1   8.0500   \n",
       "13   39   NaN        1  31.2750   \n",
       "14   14   NaN        1   7.8542   \n",
       "15   55   NaN        1  16.0000   \n",
       "16    2   NaN        3  29.1250   \n",
       "17   28   NaN        1  13.0000   \n",
       "18   31   NaN        1  18.0000   \n",
       "19   28   NaN        2   7.2250   \n",
       "\n",
       "                                                 Name  Parch  PassengerId  \\\n",
       "0                             Braund, Mr. Owen Harris      0            1   \n",
       "1   Cumings, Mrs. John Bradley (Florence Briggs Th...      0            2   \n",
       "2                              Heikkinen, Miss. Laina      0            3   \n",
       "3        Futrelle, Mrs. Jacques Heath (Lily May Peel)      0            4   \n",
       "4                            Allen, Mr. William Henry      0            5   \n",
       "5                                    Moran, Mr. James      0            6   \n",
       "6                             McCarthy, Mr. Timothy J      0            7   \n",
       "7                      Palsson, Master. Gosta Leonard      1            8   \n",
       "8   Johnson, Mrs. Oscar W (Elisabeth Vilhelmina Berg)      2            9   \n",
       "9                 Nasser, Mrs. Nicholas (Adele Achem)      0           10   \n",
       "10                    Sandstrom, Miss. Marguerite Rut      1           11   \n",
       "11                           Bonnell, Miss. Elizabeth      0           12   \n",
       "12                     Saundercock, Mr. William Henry      0           13   \n",
       "13                        Andersson, Mr. Anders Johan      5           14   \n",
       "14               Vestrom, Miss. Hulda Amanda Adolfina      0           15   \n",
       "15                   Hewlett, Mrs. (Mary D Kingcome)       0           16   \n",
       "16                               Rice, Master. Eugene      1           17   \n",
       "17                       Williams, Mr. Charles Eugene      0           18   \n",
       "18  Vander Planke, Mrs. Julius (Emelia Maria Vande...      0           19   \n",
       "19                            Masselmani, Mrs. Fatima      0           20   \n",
       "\n",
       "    Pclass Sex  SibSp Survived            Ticket  \n",
       "0        3   0      1        0         A/5 21171  \n",
       "1        1   1      1        1          PC 17599  \n",
       "2        3   1      0        1  STON/O2. 3101282  \n",
       "3        1   1      1        1            113803  \n",
       "4        3   0      0        0            373450  \n",
       "5        3   0      0        0            330877  \n",
       "6        1   0      0        0             17463  \n",
       "7        3   0      3        0            349909  \n",
       "8        3   1      0        1            347742  \n",
       "9        2   1      1        1            237736  \n",
       "10       3   1      1        1           PP 9549  \n",
       "11       1   1      0        1            113783  \n",
       "12       3   0      0        0         A/5. 2151  \n",
       "13       3   0      1        0            347082  \n",
       "14       3   1      0        0            350406  \n",
       "15       2   1      0        1            248706  \n",
       "16       3   0      4        0            382652  \n",
       "17       2   0      0        1            244373  \n",
       "18       3   1      1        0            345763  \n",
       "19       3   1      0        1              2649  "
      ]
     },
     "execution_count": 3,
     "metadata": {},
     "output_type": "execute_result"
    }
   ],
   "source": [
    "titanic.info()\n",
    "titanic.head(20)"
   ]
  },
  {
   "cell_type": "markdown",
   "metadata": {},
   "source": [
    "---\n",
    "### Data creation\n",
    "---"
   ]
  },
  {
   "cell_type": "markdown",
   "metadata": {},
   "source": [
    "*** From DataQuest Exercise ***\n",
    "- NameLength\n",
    "- Title\n",
    "- FamilyId"
   ]
  },
  {
   "cell_type": "code",
   "execution_count": 4,
   "metadata": {
    "collapsed": false,
    "scrolled": true
   },
   "outputs": [
    {
     "name": "stdout",
     "output_type": "stream",
     "text": [
      "Mr          757\n",
      "Miss        260\n",
      "Mrs         197\n",
      "Master       61\n",
      "Dr            8\n",
      "Rev           8\n",
      "Col           4\n",
      "Major         2\n",
      "Mlle          2\n",
      "Ms            2\n",
      "Don           1\n",
      "Capt          1\n",
      "Lady          1\n",
      "Sir           1\n",
      "Countess      1\n",
      "Jonkheer      1\n",
      "Dona          1\n",
      "Mme           1\n",
      "Name: Name, dtype: int64\n"
     ]
    }
   ],
   "source": [
    "### Name length ###\n",
    "titanic[\"NameLength\"] = titanic[\"Name\"].apply(lambda x: len(x))\n",
    "\n",
    "\n",
    "### Title ###\n",
    "import re\n",
    "# A function to get the title from a name.\n",
    "def get_title(name):\n",
    "    # Use a regular expression to search for a title.  Titles always consist of capital and lowercase letters, and end with a period.\n",
    "    title_search = re.search(' ([A-Za-z]+)\\.', name)\n",
    "    # If the title exists, extract and return it.\n",
    "    if title_search:\n",
    "        return title_search.group(1)\n",
    "    return \"\"\n",
    "\n",
    "# Get all the titles and print how often each one occurs.\n",
    "titles = titanic[\"Name\"].apply(get_title)\n",
    "print(pd.value_counts(titles))\n",
    "\n",
    "# Map each title to an integer.  Some titles are very rare, and are compressed into the same codes as other titles.\n",
    "title_mapping = {\"Mr\": 1, \"Miss\": 2, \"Mrs\": 3, \"Master\": 4, \"Dr\": 5, \"Rev\": 6, \"Major\": 7, \"Col\": 7, \"Mlle\": 8,\n",
    "                 \"Mme\": 8, \"Don\": 9, \"Dona\": 9, \"Lady\": 10, \"Countess\": 10, \"Jonkheer\": 10, \"Sir\": 9, \"Capt\": 7, \"Ms\": 2}\n",
    "for k,v in title_mapping.items():\n",
    "    titles[titles == k] = v\n",
    "\n",
    "titanic[\"Title\"] = titles\n",
    "\n",
    "### FamilySize ###\n",
    "titanic[\"FamilySize\"] = titanic[\"SibSp\"] + titanic[\"Parch\"]\n",
    "\n",
    "### FamilyId ###\n",
    "# A function to get the id given a row\n",
    "import operator\n",
    "family_id_mapping={}\n",
    "def get_family_id(row):\n",
    "    # Find the last name by splitting on a comma\n",
    "    last_name = row[\"Name\"].split(\",\")[0]\n",
    "    # Create the family id\n",
    "    family_id = \"{0}{1}\".format(last_name, row[\"FamilySize\"])\n",
    "    # Look up the id in the mapping\n",
    "    if family_id not in family_id_mapping:\n",
    "        if len(family_id_mapping) == 0:\n",
    "            current_id = 1\n",
    "        else:\n",
    "            # Get the maximum id from the mapping and add one to it if we don't have an id\n",
    "            current_id = (max(family_id_mapping.items(), key=operator.itemgetter(1))[1] + 1)\n",
    "        family_id_mapping[family_id] = current_id\n",
    "    return family_id_mapping[family_id]\n",
    "\n",
    "# Get the family ids with the apply method\n",
    "family_ids = titanic.apply(get_family_id, axis=1)\n",
    "\n",
    "# print(pandas.value_counts(family_ids))\n",
    "\n",
    "# There are a lot of family ids, so we'll compress all of the families under 3 members into one code.\n",
    "#family_ids[titanic[\"FamilySize\"] < 3] = -1\n",
    "titanic[\"FamilyId\"] = family_ids\n",
    "\n",
    "\n"
   ]
  },
  {
   "cell_type": "markdown",
   "metadata": {},
   "source": [
    "---\n",
    "*** My variables ***"
   ]
  },
  {
   "cell_type": "code",
   "execution_count": 5,
   "metadata": {
    "collapsed": false
   },
   "outputs": [
    {
     "name": "stdout",
     "output_type": "stream",
     "text": [
      "<class 'pandas.core.frame.DataFrame'>\n",
      "Int64Index: 1309 entries, 0 to 417\n",
      "Data columns (total 28 columns):\n",
      "Age               1309 non-null float64\n",
      "Cabin             295 non-null object\n",
      "Embarked          1309 non-null object\n",
      "Fare              1309 non-null float64\n",
      "Name              1309 non-null object\n",
      "Parch             1309 non-null int64\n",
      "PassengerId       1309 non-null int64\n",
      "Pclass            1309 non-null int64\n",
      "Sex               1309 non-null object\n",
      "SibSp             1309 non-null int64\n",
      "Survived          891 non-null object\n",
      "Ticket            1309 non-null object\n",
      "NameLength        1309 non-null int64\n",
      "Title             1309 non-null object\n",
      "FamilySize        1309 non-null int64\n",
      "FamilyId          1309 non-null int64\n",
      "Deck              1309 non-null int64\n",
      "NbSameTicket      1309 non-null int64\n",
      "IsParent          1309 non-null float64\n",
      "IsChild           1309 non-null float64\n",
      "FamHasChilds      1309 non-null float64\n",
      "FamHasParents     1309 non-null float64\n",
      "TickHasChilds     1309 non-null float64\n",
      "TickHasParents    1309 non-null float64\n",
      "HasSpouse         1309 non-null float64\n",
      "HasHusb           1309 non-null float64\n",
      "IsMother          1309 non-null float64\n",
      "IsFather          1309 non-null float64\n",
      "dtypes: float64(12), int64(9), object(7)\n",
      "memory usage: 296.6+ KB\n",
      "None\n"
     ]
    }
   ],
   "source": [
    "p = re.compile('[A-Ga-g]')\n",
    "titanic.loc[pd.notnull(titanic[\"Cabin\"]),\"Deck\"] = titanic.loc[pd.notnull(titanic[\"Cabin\"]),\"Cabin\"].apply(\n",
    "        lambda x: p.search(x).group() if p.search(x)>0  else \"\"\n",
    "        )\n",
    "titanic.loc[pd.isnull(titanic[\"Deck\"]),\"Deck\"]=\"\"\n",
    "di = {\"\":0,\"G\":1,\"F\":2,\"E\":3,\"D\":4,\"C\":5,\"B\":6,\"A\":7}\n",
    "titanic.Deck.replace(di,inplace=True)\n",
    "\n",
    "titanic[\"NbSameTicket\"]=titanic.groupby([\"Ticket\"])[\"PassengerId\"].transform('count')\n",
    "\n",
    "titanic.loc[(titanic[\"Age\"]>18) & (titanic[\"Parch\"]>0),\"IsParent\"] = 1\n",
    "titanic.loc[(titanic[\"Age\"]<=18) | (titanic[\"Parch\"]==0),\"IsParent\"] = 0\n",
    "\n",
    "titanic.loc[(titanic[\"Age\"]>18) | (titanic[\"Parch\"]==0),\"IsChild\"] = 0\n",
    "titanic.loc[(titanic[\"Age\"]<=18) & (titanic[\"Parch\"]>0),\"IsChild\"] = 1\n",
    "\n",
    "titanic[\"FamHasChilds\"] = titanic.groupby([\"FamilyId\"])[\"IsChild\"].transform(\"sum\")\n",
    "titanic[\"FamHasParents\"] = titanic.groupby([\"FamilyId\"])[\"IsParent\"].transform(\"sum\")\n",
    "\n",
    "titanic[\"TickHasChilds\"] = titanic.groupby([\"Ticket\"])[\"IsChild\"].transform(\"sum\")\n",
    "titanic[\"TickHasParents\"] = titanic.groupby([\"Ticket\"])[\"IsParent\"].transform(\"sum\")\n",
    "\n",
    "titanic.loc[(titanic[\"Age\"]>18) & (titanic[\"SibSp\"]>0) & (titanic[\"Sex\"]==0),\"HasSpouse\"] = 1\n",
    "titanic.loc[(titanic[\"Age\"]<=18) | (titanic[\"SibSp\"]==0) | (titanic[\"Sex\"]==1),\"HasSpouse\"] = 0\n",
    "\n",
    "titanic.loc[(titanic[\"Age\"]>18) & (titanic[\"SibSp\"]>0) & (titanic[\"Sex\"]==1),\"HasHusb\"] = 1\n",
    "titanic.loc[(titanic[\"Age\"]<=18) | (titanic[\"SibSp\"]==0) | (titanic[\"Sex\"]==0),\"HasHusb\"] = 0\n",
    "\n",
    "titanic.loc[(titanic[\"IsParent\"]>0) & (titanic[\"Sex\"]==1),\"IsMother\"] = 1\n",
    "titanic.loc[(titanic[\"IsParent\"]<1) | (titanic[\"Sex\"]==0),\"IsMother\"] = 0\n",
    "\n",
    "titanic.loc[(titanic[\"IsParent\"]>0) & (titanic[\"Sex\"]==0),\"IsFather\"] = 1\n",
    "titanic.loc[(titanic[\"IsParent\"]<1) | (titanic[\"Sex\"]==1),\"IsFather\"] = 0\n",
    "\n",
    "print(titanic.info())\n"
   ]
  },
  {
   "cell_type": "markdown",
   "metadata": {
    "collapsed": true
   },
   "source": [
    "*** Some transformed variables have to be in numeric ***"
   ]
  },
  {
   "cell_type": "code",
   "execution_count": 6,
   "metadata": {
    "collapsed": false
   },
   "outputs": [],
   "source": [
    "titanic.Embarked = titanic.Embarked.astype(float)\n",
    "titanic.Sex = titanic.Sex.astype(float)\n",
    "titanic.Survived = titanic.Survived.astype(float)\n",
    "titanic.Title = titanic.Title.astype(float)\n",
    "titanic.Deck = titanic.Deck.astype(float)\n"
   ]
  },
  {
   "cell_type": "markdown",
   "metadata": {},
   "source": [
    "---\n",
    "### Split the whole modified dataset in train and test\n",
    "---"
   ]
  },
  {
   "cell_type": "code",
   "execution_count": 7,
   "metadata": {
    "collapsed": false,
    "scrolled": false
   },
   "outputs": [],
   "source": [
    "train_new = titanic[0:891]\n",
    "test_new = titanic[891:]"
   ]
  },
  {
   "cell_type": "markdown",
   "metadata": {},
   "source": [
    "---\n",
    "### Machine learning\n",
    "---"
   ]
  },
  {
   "cell_type": "code",
   "execution_count": 8,
   "metadata": {
    "collapsed": false
   },
   "outputs": [],
   "source": [
    "from sklearn.cross_validation import cross_val_score\n",
    "from sklearn.cross_validation import KFold\n",
    "from sklearn.cross_validation import ShuffleSplit\n",
    "\n",
    "from sklearn.feature_selection import SelectKBest, f_classif\n",
    "from sklearn.linear_model import LinearRegression\n",
    "from sklearn.linear_model import LogisticRegression\n",
    "from sklearn.ensemble import RandomForestClassifier\n",
    "from sklearn.ensemble import GradientBoostingClassifier\n",
    "\n",
    "import matplotlib.pyplot as plt\n",
    "%matplotlib inline\n"
   ]
  },
  {
   "cell_type": "markdown",
   "metadata": {},
   "source": [
    "#### Important Variables"
   ]
  },
  {
   "cell_type": "code",
   "execution_count": 9,
   "metadata": {
    "collapsed": false
   },
   "outputs": [
    {
     "name": "stdout",
     "output_type": "stream",
     "text": [
      "[  2.53704739e-25   1.40606613e-69   5.27606885e-02   2.92243929e-01\n",
      "   1.47992454e-02   6.12018934e-15   1.40831242e-03   6.19891122e-01\n",
      "   5.25716210e-02   1.03899613e-27   5.94146032e-01   2.32199808e-02\n",
      "   2.65114038e-04   5.68911625e-01   5.59574799e-01   1.42428024e-04\n",
      "   9.55713310e-15   5.95055559e-08   1.44582767e-03   2.51899527e-19\n",
      "   2.02679507e-24]\n"
     ]
    },
    {
     "data": {
      "image/png": "[encoded data removed]",
      "text/plain": [
       "<matplotlib.figure.Figure at 0x1db30be0>"
      ]
     },
     "metadata": {},
     "output_type": "display_data"
    }
   ],
   "source": [
    "predictors = [\"Pclass\", \"Sex\", \"Age\", \"SibSp\", \"Parch\", \"Fare\", \"Embarked\", \"FamilySize\", \"NbSameTicket\", \"Title\", \"FamilyId\",\n",
    "              \"IsParent\", \"IsChild\", \"FamHasChilds\", \"FamHasParents\", \"HasSpouse\", \"HasHusb\", \"IsMother\", \"IsFather\",\"Deck\",\"NameLength\"]\n",
    "\n",
    "# Perform feature selection\n",
    "selector = SelectKBest(f_classif, k=5)\n",
    "selector.fit(train_new[predictors], train_new[\"Survived\"])\n",
    "\n",
    "# Get the raw p-values for each feature, and transform from p-values into scores\n",
    "print(selector.pvalues_)\n",
    "scores = -np.log10(selector.pvalues_)\n",
    "\n",
    "# Plot the scores.\n",
    "plt.bar(range(len(predictors)), scores)\n",
    "plt.xticks(range(len(predictors)), predictors, rotation='vertical')\n",
    "plt.show()\n"
   ]
  },
  {
   "cell_type": "markdown",
   "metadata": {},
   "source": [
    "#### Linear Regression"
   ]
  },
  {
   "cell_type": "code",
   "execution_count": 10,
   "metadata": {
    "collapsed": false
   },
   "outputs": [
    {
     "name": "stdout",
     "output_type": "stream",
     "text": [
      "[ 0.33936913  0.40867813  0.44388455]\n",
      "0.397310602862\n"
     ]
    }
   ],
   "source": [
    "# Pick some features.\n",
    "predictors = [\"Pclass\", \"Sex\", \"Age\", \"Fare\", \"FamilySize\", \"Title\",\"IsParent\",\"IsChild\",\"HasSpouse\",\"HasHusb\",\n",
    "              \"IsMother\", \"IsFather\", \"Deck\"]\n",
    "\n",
    "alg = LinearRegression()\n",
    "score = cross_val_score(alg, train_new[predictors],train_new[\"Survived\"],cv=3)\n",
    "print(score)\n",
    "print(score.mean())\n"
   ]
  },
  {
   "cell_type": "markdown",
   "metadata": {},
   "source": [
    "#### Logistic Regression"
   ]
  },
  {
   "cell_type": "code",
   "execution_count": 11,
   "metadata": {
    "collapsed": false
   },
   "outputs": [
    {
     "name": "stdout",
     "output_type": "stream",
     "text": [
      "[ 0.80808081  0.81144781  0.82154882]\n",
      "0.813692480359\n"
     ]
    }
   ],
   "source": [
    "# Pick some features.\n",
    "predictors = [\"Pclass\", \"Sex\", \"Age\", \"Fare\", \"FamilySize\", \"Title\",\"IsParent\",\"IsChild\",\"HasSpouse\",\"HasHusb\",\n",
    "              \"IsMother\", \"IsFather\", \"Deck\",\"Embarked\",\"NameLength\"]\n",
    "\n",
    "alg = LogisticRegression(random_state=1)\n",
    "score = cross_val_score(alg, train_new[predictors],train_new[\"Survived\"],cv=3)\n",
    "print(score)\n",
    "print(score.mean())\n"
   ]
  },
  {
   "cell_type": "markdown",
   "metadata": {},
   "source": [
    "#### RandomForest"
   ]
  },
  {
   "cell_type": "code",
   "execution_count": 12,
   "metadata": {
    "collapsed": false,
    "scrolled": false
   },
   "outputs": [
    {
     "name": "stdout",
     "output_type": "stream",
     "text": [
      "0.811447811448\n",
      "0.818181818182\n",
      "0.822671156004\n",
      "0.830527497194\n",
      "0.827160493827\n",
      "[ 0.80808081  0.85521886  0.84175084]\n",
      "0.835016835017\n",
      "[ 0.80357143  0.86098655  0.82432432  0.85135135]\n",
      "0.835058412833\n",
      "[ 0.8358209   0.80223881  0.84328358  0.82462687  0.8358209   0.8358209\n",
      "  0.81343284  0.82462687  0.85820896  0.87313433]\n",
      "0.834701492537\n",
      "[0.78212290502793291, 0.78770949720670391, 0.81005586592178769, 0.81564245810055869, 0.81564245810055869, 0.82681564245810057, 0.82681564245810057, 0.83240223463687146, 0.83798882681564246, 0.83798882681564246, 0.84357541899441346, 0.84357541899441346, 0.84916201117318435, 0.86033519553072624, 0.86592178770949724, 0.87709497206703912, 0.88268156424581001, 0.88826815642458101, 0.88826815642458101, 0.91061452513966479]\n",
      "0.844134078212\n",
      "[0.78888888888888886, 0.80000000000000004, 0.80000000000000004, 0.82222222222222219, 0.82222222222222219, 0.82222222222222219, 0.83333333333333337, 0.83333333333333337, 0.84444444444444444, 0.84444444444444444, 0.84444444444444444, 0.84444444444444444, 0.85555555555555551, 0.85555555555555551, 0.85555555555555551, 0.8666666666666667, 0.90000000000000002, 0.92222222222222228, 0.92222222222222228, 0.94444444444444442]\n",
      "0.851111111111\n"
     ]
    }
   ],
   "source": [
    "# Pick some features.\n",
    "predictors = [\"Pclass\", \"Sex\", \"Fare\", \"Title\"]\n",
    "\n",
    "alg = RandomForestClassifier(random_state=1, n_estimators=150, min_samples_split=8, min_samples_leaf=4)\n",
    "score = cross_val_score(alg, train_new[predictors],train_new[\"Survived\"],cv=3)\n",
    "print(score.mean())\n",
    "\n",
    "# Test.\n",
    "predictors = [\"Pclass\", \"Sex\", \"Fare\", \"Title\",\"IsParent\",\"IsChild\",\"HasSpouse\",\"HasHusb\",\"IsMother\",\"IsFather\"]\n",
    "\n",
    "alg = RandomForestClassifier(random_state=1, n_estimators=150, min_samples_split=8, min_samples_leaf=4)\n",
    "score = cross_val_score(alg, train_new[predictors],train_new[\"Survived\"],cv=3)\n",
    "print(score.mean())\n",
    "\n",
    "# Test.\n",
    "predictors = [\"Pclass\", \"Sex\", \"Age\", \"Fare\", \"Title\",\"IsParent\",\"IsChild\",\"HasSpouse\",\"HasHusb\",\"IsMother\",\"IsFather\"]\n",
    "\n",
    "alg = RandomForestClassifier(random_state=1, n_estimators=150, min_samples_split=8, min_samples_leaf=4)\n",
    "score = cross_val_score(alg, train_new[predictors],train_new[\"Survived\"],cv=3)\n",
    "print(score.mean())\n",
    "\n",
    "# Test.\n",
    "predictors = [\"Pclass\", \"Sex\", \"Age\", \"Fare\", \"FamilySize\", \"Title\",\"IsParent\",\"IsChild\",\"HasSpouse\",\"HasHusb\",\n",
    "              \"IsMother\",\"IsFather\"]\n",
    "\n",
    "alg = RandomForestClassifier(random_state=1, n_estimators=150, min_samples_split=8, min_samples_leaf=4)\n",
    "score = cross_val_score(alg, train_new[predictors],train_new[\"Survived\"],cv=3)\n",
    "print(score.mean())\n",
    "\n",
    "# Test.\n",
    "predictors = [\"Pclass\", \"Sex\", \"Age\", \"Fare\", \"FamilySize\", \"Title\", \"Deck\", \"FamilyId\"]\n",
    "\n",
    "alg = RandomForestClassifier(random_state=1, n_estimators=150, min_samples_split=8, min_samples_leaf=4)\n",
    "score = cross_val_score(alg, train_new[predictors],train_new[\"Survived\"],cv=3)\n",
    "print(score.mean())\n",
    "\n",
    "# Test.\n",
    "predictors = [\"Pclass\", \"Sex\", \"Age\", \"Fare\", \"FamilySize\", \"Title\", \"Deck\"]\n",
    "\n",
    "alg = RandomForestClassifier(random_state=1, n_estimators=150, min_samples_split=8, min_samples_leaf=4)\n",
    "score = cross_val_score(alg, train_new[predictors],train_new[\"Survived\"],cv=3)\n",
    "print(score)\n",
    "print(score.mean())\n",
    "\n",
    "# Test.\n",
    "predictors = [\"Pclass\", \"Sex\", \"Age\", \"Fare\", \"FamilySize\", \"Title\", \"Deck\"]\n",
    "\n",
    "alg = RandomForestClassifier(random_state=1, n_estimators=150, min_samples_split=8, min_samples_leaf=4)\n",
    "score = cross_val_score(alg, train_new[predictors],train_new[\"Survived\"],cv=4)\n",
    "print(score)\n",
    "print(score.mean())\n",
    "\n",
    "\n",
    "# Test ShuffleSplit, 10 iterations, test size=30%.\n",
    "predictors = [\"Pclass\", \"Sex\", \"Age\", \"Fare\", \"FamilySize\", \"Title\", \"Deck\"]\n",
    "\n",
    "alg = RandomForestClassifier(random_state=1, n_estimators=150, min_samples_split=8, min_samples_leaf=4)\n",
    "cv = ShuffleSplit(train_new.shape[0], n_iter=10,test_size=0.3, random_state=0)                                                  \n",
    "score = cross_val_score(alg, train_new[predictors],train_new[\"Survived\"],cv=cv)\n",
    "print(score)\n",
    "print(score.mean())\n",
    "\n",
    "# Test ShuffleSplit, 20 iterations, test size=20%.\n",
    "predictors = [\"Pclass\", \"Sex\", \"Age\", \"Fare\", \"FamilySize\", \"Title\", \"Deck\"]\n",
    "\n",
    "alg = RandomForestClassifier(random_state=1, n_estimators=150, min_samples_split=8, min_samples_leaf=4)\n",
    "cv = ShuffleSplit(train_new.shape[0], n_iter=20,test_size=0.2, random_state=0)                                                  \n",
    "score = cross_val_score(alg, train_new[predictors],train_new[\"Survived\"],cv=cv)\n",
    "print(sorted(score))\n",
    "print(score.mean())\n",
    "\n",
    "# Test ShuffleSplit, 20 iterations, test size=10%.\n",
    "predictors = [\"Pclass\", \"Sex\", \"Age\", \"Fare\", \"FamilySize\", \"Title\", \"Deck\"]\n",
    "\n",
    "alg = RandomForestClassifier(random_state=1, n_estimators=150, min_samples_split=8, min_samples_leaf=4)\n",
    "cv = ShuffleSplit(train_new.shape[0], n_iter=20,test_size=0.1, random_state=0)                                                  \n",
    "score = cross_val_score(alg, train_new[predictors],train_new[\"Survived\"],cv=cv)\n",
    "print(sorted(score))\n",
    "print(score.mean())\n",
    "\n"
   ]
  },
  {
   "cell_type": "markdown",
   "metadata": {},
   "source": [
    "#### GradientBoosting"
   ]
  },
  {
   "cell_type": "code",
   "execution_count": 13,
   "metadata": {
    "collapsed": false
   },
   "outputs": [
    {
     "name": "stdout",
     "output_type": "stream",
     "text": [
      "0.828282828283\n",
      "0.830527497194\n",
      "0.830527497194\n",
      "[ 0.80808081  0.85858586  0.82491582]\n",
      "0.830527497194\n",
      "[ 0.8047138   0.85185185  0.83838384]\n",
      "0.83164983165\n",
      "[ 0.82089552  0.81716418  0.8358209   0.81716418  0.8358209   0.79477612\n",
      "  0.80223881  0.8358209   0.85820896  0.85820896  0.84701493  0.82462687\n",
      "  0.79104478  0.87313433  0.82835821  0.82835821  0.80597015  0.85447761\n",
      "  0.87686567  0.85820896]\n",
      "0.833208955224\n",
      "[ 0.81005587  0.80446927  0.82681564  0.81564246  0.84916201  0.84916201\n",
      "  0.82122905  0.8603352   0.88268156  0.88268156  0.8603352   0.84916201\n",
      "  0.81564246  0.87709497  0.81005587  0.83798883  0.7877095   0.87709497\n",
      "  0.87709497  0.84357542]\n",
      "0.841899441341\n"
     ]
    }
   ],
   "source": [
    "# Test.\n",
    "predictors = [\"Pclass\", \"Sex\", \"Age\", \"Fare\", \"FamilySize\", \"Title\",\"IsParent\",\"IsChild\",\"HasSpouse\",\"HasHusb\",\n",
    "              \"IsMother\",\"IsFather\"]\n",
    "\n",
    "alg=GradientBoostingClassifier(random_state=1, n_estimators=25, max_depth=4)\n",
    "score = cross_val_score(alg, train_new[predictors],train_new[\"Survived\"],cv=3)\n",
    "print(score.mean())\n",
    "\n",
    "\n",
    "# Test.\n",
    "predictors = [\"Pclass\", \"Sex\", \"Fare\", \"FamilySize\", \"Title\"]\n",
    "\n",
    "alg=GradientBoostingClassifier(random_state=1, n_estimators=25, max_depth=4)\n",
    "score = cross_val_score(alg, train_new[predictors],train_new[\"Survived\"],cv=3)\n",
    "print(score.mean())\n",
    "\n",
    "# Test.\n",
    "predictors = [\"Pclass\", \"Sex\", \"Age\",\"FamilySize\", \"Title\"]\n",
    "\n",
    "alg=GradientBoostingClassifier(random_state=1, n_estimators=25, max_depth=4)\n",
    "score = cross_val_score(alg, train_new[predictors],train_new[\"Survived\"],cv=3)\n",
    "print(score.mean())\n",
    "\n",
    "# Test.\n",
    "predictors = [\"Pclass\", \"Sex\", \"Age\",\"Fare\", \"Title\"]\n",
    "\n",
    "alg=GradientBoostingClassifier(random_state=1, n_estimators=25, max_depth=4)\n",
    "score = cross_val_score(alg, train_new[predictors],train_new[\"Survived\"],cv=3)\n",
    "print(score)\n",
    "print(score.mean())\n",
    "\n",
    "# Test.\n",
    "predictors = [\"Pclass\", \"Sex\", \"Age\", \"Fare\", \"FamilySize\", \"Title\",\"IsParent\",\"IsChild\",\"HasSpouse\",\"HasHusb\",\n",
    "              \"IsMother\",\"IsFather\",\"Deck\"]\n",
    "\n",
    "alg=GradientBoostingClassifier(random_state=1, n_estimators=25, max_depth=4)\n",
    "score = cross_val_score(alg, train_new[predictors],train_new[\"Survived\"],cv=3)\n",
    "print(score)\n",
    "print(score.mean())\n",
    "\n",
    "\n",
    "# Test ShuffleSplit.\n",
    "predictors = [\"Pclass\", \"Sex\", \"Age\", \"Fare\", \"FamilySize\", \"Title\",\"IsParent\",\"IsChild\",\"HasSpouse\",\"HasHusb\",\n",
    "              \"IsMother\",\"IsFather\",\"Deck\"]\n",
    "\n",
    "alg=GradientBoostingClassifier(random_state=1, n_estimators=25, max_depth=4)\n",
    "cv = ShuffleSplit(train_new.shape[0], n_iter=20,test_size=0.3, random_state=0)                                                  \n",
    "score = cross_val_score(alg, train_new[predictors],train_new[\"Survived\"],cv=cv)\n",
    "print(score)\n",
    "print(score.mean())\n",
    "\n",
    "\n",
    "# Test ShuffleSplit.\n",
    "predictors = [\"Pclass\", \"Sex\", \"Age\", \"Fare\", \"FamilySize\", \"Title\",\"IsParent\",\"IsChild\",\"HasSpouse\",\"HasHusb\",\n",
    "              \"IsMother\",\"IsFather\",\"Deck\"]\n",
    "\n",
    "alg=GradientBoostingClassifier(random_state=1, n_estimators=25, max_depth=4)\n",
    "cv = ShuffleSplit(train_new.shape[0], n_iter=20,test_size=0.2, random_state=0)                                                  \n",
    "score = cross_val_score(alg, train_new[predictors],train_new[\"Survived\"],cv=cv)\n",
    "print(score)\n",
    "print(score.mean())\n",
    "\n",
    "\n"
   ]
  },
  {
   "cell_type": "markdown",
   "metadata": {},
   "source": [
    "---\n",
    "#### Ensemble Tests ####\n",
    "---"
   ]
  },
  {
   "cell_type": "code",
   "execution_count": 26,
   "metadata": {
    "collapsed": false
   },
   "outputs": [
    {
     "name": "stdout",
     "output_type": "stream",
     "text": [
      "0.824915824916\n"
     ]
    },
    {
     "name": "stderr",
     "output_type": "stream",
     "text": [
      "C:\\Anaconda2\\lib\\site-packages\\ipykernel\\__main__.py:36: FutureWarning: in the future, boolean array-likes will be handled as a boolean array index\n"
     ]
    }
   ],
   "source": [
    "# The algorithms we want to ensemble.\n",
    "# We're using the more linear predictors for the logistic regression, and everything with the gradient boosting classifier.\n",
    "algorithms = [\n",
    "        [GradientBoostingClassifier(random_state=1, n_estimators=25, max_depth=3), [\"Pclass\", \"Sex\", \"Age\", \"Fare\", \"FamilySize\", \"Title\",\"IsParent\",\"IsChild\",\"HasSpouse\",\"HasHusb\",\n",
    "                  \"IsMother\",\"IsFather\",\"Deck\"]],\n",
    "        [LogisticRegression(random_state=1), [\"Pclass\", \"Sex\", \"Age\", \"Fare\", \"FamilySize\", \"Title\",\"IsParent\",\"IsChild\",\"HasSpouse\",\"HasHusb\",\n",
    "                  \"IsMother\", \"IsFather\", \"Deck\",\"Embarked\",\"NameLength\"]]\n",
    "    ]\n",
    "\n",
    "# Initialize the cross validation folds\n",
    "kf = KFold(train_new.shape[0], n_folds=3, random_state=1)\n",
    "\n",
    "predictions = []\n",
    "for train, test in kf:\n",
    "    train_target = train_new[\"Survived\"].iloc[train]\n",
    "    full_test_predictions = []\n",
    "    # Make predictions for each algorithm on each fold\n",
    "    for alg, predictors in algorithms:\n",
    "        # Fit the algorithm on the training data.\n",
    "        alg.fit(train_new[predictors].iloc[train,:], train_target)\n",
    "        # Select and predict on the test fold.  \n",
    "        # The .astype(float) is necessary to convert the dataframe to all floats and avoid an sklearn error.\n",
    "        test_predictions = alg.predict_proba(train_new[predictors].iloc[test,:].astype(float))[:,1]\n",
    "        full_test_predictions.append(test_predictions)\n",
    "    # Use a simple ensembling scheme -- just average the predictions to get the final classification.\n",
    "    test_predictions = (full_test_predictions[0] + full_test_predictions[1]) / 2\n",
    "    # Any value over .5 is assumed to be a 1 prediction, and below .5 is a 0 prediction.\n",
    "    test_predictions[test_predictions <= .5] = 0\n",
    "    test_predictions[test_predictions > .5] = 1\n",
    "    predictions.append(test_predictions)\n",
    "\n",
    "# Put all the predictions together into one array.\n",
    "predictions = np.concatenate(predictions, axis=0)\n",
    "\n",
    "# Compute accuracy by comparing to the training data.\n",
    "accuracy = sum(predictions[predictions == train_new[\"Survived\"]]) / len(predictions)\n",
    "print(accuracy)"
   ]
  },
  {
   "cell_type": "code",
   "execution_count": 32,
   "metadata": {
    "collapsed": false
   },
   "outputs": [
    {
     "name": "stdout",
     "output_type": "stream",
     "text": [
      "0.836139169473\n"
     ]
    },
    {
     "name": "stderr",
     "output_type": "stream",
     "text": [
      "C:\\Anaconda2\\lib\\site-packages\\ipykernel\\__main__.py:36: FutureWarning: in the future, boolean array-likes will be handled as a boolean array index\n"
     ]
    }
   ],
   "source": [
    "# The algorithms we want to ensemble.\n",
    "# We're using the more linear predictors for the logistic regression, and everything with the gradient boosting classifier.\n",
    "algorithms = [\n",
    "        [GradientBoostingClassifier(random_state=1, n_estimators=25, max_depth=3), [\"Pclass\", \"Sex\", \"Age\", \"Fare\", \"FamilySize\", \"Title\",\"IsParent\",\"IsChild\",\"HasSpouse\",\"HasHusb\",\n",
    "                  \"IsMother\",\"IsFather\",\"Deck\"]],\n",
    "        [RandomForestClassifier(random_state=1, n_estimators=150, min_samples_split=8, min_samples_leaf=4),\n",
    "                 [\"Pclass\", \"Sex\", \"Age\", \"Fare\", \"FamilySize\", \"Title\", \"Deck\"]]\n",
    "    ]\n",
    "\n",
    "# Initialize the cross validation folds\n",
    "kf = KFold(train_new.shape[0], n_folds=3, random_state=1)\n",
    "\n",
    "predictions = []\n",
    "for train, test in kf:\n",
    "    train_target = train_new[\"Survived\"].iloc[train]\n",
    "    full_test_predictions = []\n",
    "    # Make predictions for each algorithm on each fold\n",
    "    for alg, predictors in algorithms:\n",
    "        # Fit the algorithm on the training data.\n",
    "        alg.fit(train_new[predictors].iloc[train,:], train_target)\n",
    "        # Select and predict on the test fold.  \n",
    "        # The .astype(float) is necessary to convert the dataframe to all floats and avoid an sklearn error.\n",
    "        test_predictions = alg.predict_proba(train_new[predictors].iloc[test,:].astype(float))[:,1]\n",
    "        full_test_predictions.append(test_predictions)\n",
    "    # Use a simple ensembling scheme -- just average the predictions to get the final classification.\n",
    "    test_predictions = (full_test_predictions[0] + full_test_predictions[1]) / 2\n",
    "    # Any value over .5 is assumed to be a 1 prediction, and below .5 is a 0 prediction.\n",
    "    test_predictions[test_predictions <= .5] = 0\n",
    "    test_predictions[test_predictions > .5] = 1\n",
    "    predictions.append(test_predictions)\n",
    "\n",
    "# Put all the predictions together into one array.\n",
    "predictions = np.concatenate(predictions, axis=0)\n",
    "\n",
    "# Compute accuracy by comparing to the training data.\n",
    "accuracy = sum(predictions[predictions == train_new[\"Survived\"]]) / len(predictions)\n",
    "print(accuracy)"
   ]
  },
  {
   "cell_type": "markdown",
   "metadata": {},
   "source": [
    "---\n",
    "### Predict on Test_new\n",
    "---"
   ]
  },
  {
   "cell_type": "code",
   "execution_count": 24,
   "metadata": {
    "collapsed": false,
    "scrolled": true
   },
   "outputs": [
    {
     "name": "stdout",
     "output_type": "stream",
     "text": [
      "   PassengerId  Survived\n",
      "0          892         0\n",
      "1          893         0\n",
      "2          894         0\n",
      "3          895         0\n",
      "4          896         1\n",
      "5          897         0\n",
      "6          898         1\n",
      "7          899         0\n",
      "8          900         1\n",
      "9          901         0\n"
     ]
    }
   ],
   "source": [
    "### My best one !\n",
    "\n",
    "algorithms = [\n",
    "        [GradientBoostingClassifier(random_state=1, n_estimators=25, max_depth=3), [\"Pclass\", \"Sex\", \"Age\", \"Fare\", \"FamilySize\", \"Title\",\"IsParent\",\"IsChild\",\"HasSpouse\",\"HasHusb\",\n",
    "                  \"IsMother\",\"IsFather\",\"Deck\"]],\n",
    "        [RandomForestClassifier(random_state=1, n_estimators=150, min_samples_split=8, min_samples_leaf=4),\n",
    "                 [\"Pclass\", \"Sex\", \"Age\", \"Fare\", \"FamilySize\", \"Title\", \"Deck\"]]\n",
    "    ]\n",
    "\n",
    "full_predictions = []\n",
    "for alg, predictors in algorithms:\n",
    "    # Fit the algorithm using the full training data.\n",
    "    alg.fit(train_new[predictors], train_new[\"Survived\"])\n",
    "    # Predict using the test dataset.  We have to convert all the columns to floats to avoid an error.\n",
    "    predictions = alg.predict_proba(test_new[predictors].astype(float))[:,1]\n",
    "    full_predictions.append(predictions)\n",
    "\n",
    "# Mean of both alg predictions\n",
    "predictions = (full_predictions[0] + full_predictions[1]) / 2\n",
    "predictions[predictions<=0.5]=0\n",
    "predictions[predictions>0.5]=1\n",
    "predictions = predictions.astype(int)\n",
    "submission = pd.DataFrame({\n",
    "        \"PassengerId\": test_new[\"PassengerId\"],\n",
    "        \"Survived\": predictions\n",
    "    })\n",
    "print(submission.head(10))\n",
    "\n"
   ]
  },
  {
   "cell_type": "markdown",
   "metadata": {},
   "source": [
    "---\n",
    "### Submit predictions !\n",
    "---"
   ]
  },
  {
   "cell_type": "code",
   "execution_count": 25,
   "metadata": {
    "collapsed": true
   },
   "outputs": [],
   "source": [
    "submission.to_csv(\"kaggle.csv\", index=False)"
   ]
  },
  {
   "cell_type": "markdown",
   "metadata": {},
   "source": [
    "---\n",
    "#### Other Predictions\n",
    "---"
   ]
  },
  {
   "cell_type": "code",
   "execution_count": 14,
   "metadata": {
    "collapsed": false
   },
   "outputs": [
    {
     "name": "stdout",
     "output_type": "stream",
     "text": [
      "   PassengerId  Survived\n",
      "0          892         0\n",
      "1          893         1\n",
      "2          894         0\n",
      "3          895         0\n",
      "4          896         1\n",
      "5          897         0\n",
      "6          898         1\n",
      "7          899         0\n",
      "8          900         1\n",
      "9          901         0\n"
     ]
    }
   ],
   "source": [
    "algorithms = [\n",
    "        [GradientBoostingClassifier(random_state=1, n_estimators=25, max_depth=3), [\"Pclass\", \"Sex\", \"Age\", \"Fare\", \"FamilySize\", \"Title\",\"IsParent\",\"IsChild\",\"HasSpouse\",\"HasHusb\",\n",
    "                  \"IsMother\",\"IsFather\",\"Deck\"]]\n",
    "    ]\n",
    "\n",
    "full_predictions = []\n",
    "for alg, predictors in algorithms:\n",
    "    # Fit the algorithm using the full training data.\n",
    "    alg.fit(train_new[predictors], train_new[\"Survived\"])\n",
    "    # Predict using the test dataset.  We have to convert all the columns to floats to avoid an error.\n",
    "    predictions = alg.predict_proba(test_new[predictors].astype(float))[:,1]\n",
    "    full_predictions.append(predictions)\n",
    "\n",
    "predictions[predictions<=0.5]=0\n",
    "predictions[predictions>0.5]=1\n",
    "predictions = predictions.astype(int)\n",
    "submission = pd.DataFrame({\n",
    "        \"PassengerId\": test_new[\"PassengerId\"],\n",
    "        \"Survived\": predictions\n",
    "    })\n",
    "print(submission.head(10))"
   ]
  },
  {
   "cell_type": "code",
   "execution_count": 16,
   "metadata": {
    "collapsed": false
   },
   "outputs": [
    {
     "name": "stdout",
     "output_type": "stream",
     "text": [
      "   PassengerId  Survived\n",
      "0          892         0\n",
      "1          893         0\n",
      "2          894         0\n",
      "3          895         0\n",
      "4          896         1\n",
      "5          897         0\n",
      "6          898         1\n",
      "7          899         0\n",
      "8          900         1\n",
      "9          901         0\n"
     ]
    }
   ],
   "source": [
    "algorithms = [\n",
    "        [RandomForestClassifier(random_state=1, n_estimators=150, min_samples_split=8, min_samples_leaf=4),\n",
    "                 [\"Pclass\", \"Sex\", \"Age\", \"Fare\", \"FamilySize\", \"Title\", \"Deck\"]]\n",
    "    ]\n",
    "\n",
    "full_predictions = []\n",
    "for alg, predictors in algorithms:\n",
    "    # Fit the algorithm using the full training data.\n",
    "    alg.fit(train_new[predictors], train_new[\"Survived\"])\n",
    "    # Predict using the test dataset.  We have to convert all the columns to floats to avoid an error.\n",
    "    predictions = alg.predict_proba(test_new[predictors].astype(float))[:,1]\n",
    "    full_predictions.append(predictions)\n",
    "\n",
    "# Mean of both alg predictions\n",
    "predictions[predictions<=0.5]=0\n",
    "predictions[predictions>0.5]=1\n",
    "predictions = predictions.astype(int)\n",
    "submission = pd.DataFrame({\n",
    "        \"PassengerId\": test_new[\"PassengerId\"],\n",
    "        \"Survived\": predictions\n",
    "    })\n",
    "print(submission.head(10))\n",
    "\n"
   ]
  },
  {
   "cell_type": "code",
   "execution_count": 22,
   "metadata": {
    "collapsed": false
   },
   "outputs": [
    {
     "name": "stdout",
     "output_type": "stream",
     "text": [
      "   PassengerId  Survived\n",
      "0          892         0\n",
      "1          893         0\n",
      "2          894         0\n",
      "3          895         0\n",
      "4          896         1\n",
      "5          897         0\n",
      "6          898         1\n",
      "7          899         0\n",
      "8          900         1\n",
      "9          901         0\n"
     ]
    }
   ],
   "source": [
    "algorithms = [\n",
    "        [GradientBoostingClassifier(random_state=1, n_estimators=25, max_depth=3), [\"Pclass\", \"Sex\", \"Age\", \"Fare\", \"FamilySize\", \"Title\",\"IsParent\",\"IsChild\",\"HasSpouse\",\"HasHusb\",\n",
    "                  \"IsMother\",\"IsFather\",\"Deck\"]],\n",
    "        [RandomForestClassifier(random_state=1, n_estimators=150, min_samples_split=8, min_samples_leaf=4),\n",
    "                 [\"Pclass\", \"Sex\", \"Age\", \"Fare\", \"FamilySize\", \"Title\", \"Deck\"]],\n",
    "        [LogisticRegression(random_state=1), [\"Pclass\", \"Sex\", \"Age\", \"Fare\", \"FamilySize\", \"Title\",\"IsParent\",\"IsChild\",\"HasSpouse\",\"HasHusb\",\n",
    "                  \"IsMother\", \"IsFather\", \"Deck\",\"Embarked\",\"NameLength\"]]\n",
    "    ]\n",
    "\n",
    "full_predictions = []\n",
    "for alg, predictors in algorithms:\n",
    "    # Fit the algorithm using the full training data.\n",
    "    alg.fit(train_new[predictors], train_new[\"Survived\"])\n",
    "    # Predict using the test dataset.  We have to convert all the columns to floats to avoid an error.\n",
    "    predictions = alg.predict_proba(test_new[predictors].astype(float))[:,1]\n",
    "    full_predictions.append(predictions)\n",
    "\n",
    "# Mean of both alg predictions\n",
    "predictions = (full_predictions[0]*2 + full_predictions[1]*2 + full_predictions[2]) / 5\n",
    "predictions[predictions<=0.5]=0\n",
    "predictions[predictions>0.5]=1\n",
    "predictions = predictions.astype(int)\n",
    "submission = pd.DataFrame({\n",
    "        \"PassengerId\": test_new[\"PassengerId\"],\n",
    "        \"Survived\": predictions\n",
    "    })\n",
    "print(submission.head(10))\n"
   ]
  }
 ],
 "metadata": {
  "kernelspec": {
   "display_name": "Python 2",
   "language": "python",
   "name": "python2"
  },
  "language_info": {
   "codemirror_mode": {
    "name": "ipython",
    "version": 2
   },
   "file_extension": ".py",
   "mimetype": "text/x-python",
   "name": "python",
   "nbconvert_exporter": "python",
   "pygments_lexer": "ipython2",
   "version": "2.7.11"
  }
 },
 "nbformat": 4,
 "nbformat_minor": 0
}
